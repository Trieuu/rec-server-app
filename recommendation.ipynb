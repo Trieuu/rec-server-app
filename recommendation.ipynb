{
 "cells": [
  {
   "cell_type": "code",
   "execution_count": 110,
   "id": "ac5a14fb",
   "metadata": {},
   "outputs": [],
   "source": [
    "import json\n",
    "from datetime import datetime, timedelta\n",
    "from collections import Counter, defaultdict\n",
    "from itertools import combinations\n",
    "import re\n",
    "from typing import Dict, Iterable, List, Mapping, MutableMapping, Sequence, Set, Tuple,  Optional\n",
    "ProductID = str"
   ]
  },
  {
   "cell_type": "markdown",
   "id": "b9a5a9db",
   "metadata": {},
   "source": [
    "# BE data extract"
   ]
  },
  {
   "cell_type": "code",
   "execution_count": 111,
   "id": "1484a04f",
   "metadata": {},
   "outputs": [],
   "source": [
    "import requests\n",
    "\n",
    "API_BASE = \"https://frontend-ec-project-server.onrender.com\"\n",
    "# API_BASE = \"http://localhost:5001\"\n",
    "\n",
    "# Shared session (similar to axiosClient)\n",
    "session = requests.Session()\n",
    "session.headers.update({\"Content-Type\": \"application/json\"})\n",
    "\n",
    "\n",
    "class CartApi:\n",
    "    @staticmethod\n",
    "    def get_all():\n",
    "        return session.get(f\"{API_BASE}/api/carts\").json()\n",
    "\n",
    "    @staticmethod\n",
    "    def get_by_user_id(user_id):\n",
    "        return session.get(f\"{API_BASE}/api/carts/{user_id}\").json()\n",
    "\n",
    "    @staticmethod\n",
    "    def create(data):\n",
    "        return session.post(f\"{API_BASE}/api/carts\", json=data).json()\n",
    "\n",
    "    @staticmethod\n",
    "    def update(cart_id, data):\n",
    "        return session.put(f\"{API_BASE}/api/carts/{cart_id}\", json=data).json()\n",
    "\n",
    "    @staticmethod\n",
    "    def delete(cart_id):\n",
    "        return session.delete(f\"{API_BASE}/api/carts/{cart_id}\").json()\n",
    "\n",
    "class ProductApi:\n",
    "    @staticmethod\n",
    "    def get_all(params=None):\n",
    "        return session.get(f\"{API_BASE}/api/products\", params=params).json()\n",
    "\n",
    "    @staticmethod\n",
    "    def get_prediction(input_text):\n",
    "        return session.get(f\"{API_BASE}/api/products/predict\", params={\"search\": input_text}).json()\n",
    "\n",
    "    @staticmethod\n",
    "    def get_by_id(product_id):\n",
    "        return session.get(f\"{API_BASE}/api/products/{product_id}\").json()\n",
    "\n",
    "    @staticmethod\n",
    "    def create(data):\n",
    "        return session.post(f\"{API_BASE}/api/products\", json=data).json()\n",
    "\n",
    "    @staticmethod\n",
    "    def update(product_id, data):\n",
    "        return session.put(f\"{API_BASE}/api/products/{product_id}\", json=data).json()\n",
    "\n",
    "    @staticmethod\n",
    "    def delete(product_id):\n",
    "        return session.delete(f\"{API_BASE}/api/products/{product_id}\").json()\n",
    "\n",
    "\n",
    "class OrderApi:\n",
    "    @staticmethod\n",
    "    def get_all():\n",
    "        return session.get(f\"{API_BASE}/api/orders\").json()\n",
    "\n",
    "    @staticmethod\n",
    "    def get_by_id(order_id):\n",
    "        return session.get(f\"{API_BASE}/api/orders/{order_id}\").json()\n",
    "\n",
    "    @staticmethod\n",
    "    def get_by_user_id(user_id):\n",
    "        return session.get(f\"{API_BASE}/api/orders/user/{user_id}\").json()\n",
    "\n",
    "    @staticmethod\n",
    "    def create(data):\n",
    "        return session.post(f\"{API_BASE}/api/orders\", json=data).json()\n",
    "\n",
    "    @staticmethod\n",
    "    def update(order_id, data):\n",
    "        return session.put(f\"{API_BASE}/api/orders/{order_id}\", json=data).json()\n"
   ]
  },
  {
   "cell_type": "code",
   "execution_count": 112,
   "id": "325681b0",
   "metadata": {},
   "outputs": [],
   "source": [
    "def get_all_products():\n",
    "    total_page = ProductApi.get_all()\n",
    "    total_page = total_page.get(\"totalPages\", 1)\n",
    "    all_products = []\n",
    "    for page in range(0, total_page):\n",
    "        response = ProductApi.get_all(params={\"page\": page + 1})\n",
    "        all_products.extend(response.get(\"products\", []))\n",
    "    return all_products"
   ]
  },
  {
   "cell_type": "code",
   "execution_count": 113,
   "id": "6a319235",
   "metadata": {},
   "outputs": [],
   "source": [
    "# def fetch_all_data():\n",
    "#     carts = CartApi.get_all()\n",
    "#     products = get_all_products()\n",
    "#     orders = OrderApi.get_all()\n",
    "#     return {\n",
    "#         \"carts\": carts,\n",
    "#         \"products\": products,\n",
    "#         \"orders\": orders\n",
    "#     }"
   ]
  },
  {
   "cell_type": "code",
   "execution_count": 114,
   "id": "d743dbcb",
   "metadata": {},
   "outputs": [],
   "source": [
    "# def extract_to_json():\n",
    "#     data = fetch_all_data()\n",
    "#     with open(\"data.json\", \"w\", encoding=\"utf-8\") as f:\n",
    "#         json.dump(data, f, ensure_ascii=False, indent=4)"
   ]
  },
  {
   "cell_type": "code",
   "execution_count": 115,
   "id": "c8330725",
   "metadata": {},
   "outputs": [],
   "source": [
    "# extract_to_json()"
   ]
  },
  {
   "cell_type": "code",
   "execution_count": 116,
   "id": "9ab396f0",
   "metadata": {},
   "outputs": [],
   "source": [
    "def convert_carts():\n",
    "    '''\n",
    "    Convert New to Old \n",
    "    Old cart structure:\n",
    "    {\n",
    "      \"user_id\": 1, # currently use int, need to modify the code to str\n",
    "      \"products\": [\n",
    "        {\n",
    "          \"product_id\": \"B1\",\n",
    "          \"quantity\": 2\n",
    "        },\n",
    "        {\n",
    "          \"product_id\": \"B3\",\n",
    "          \"quantity\": 3\n",
    "        }\n",
    "      ]\n",
    "    }\n",
    "    New cart structure:\n",
    "    {\n",
    "        \"_id\": str,\n",
    "        \"user_id\": str,\n",
    "        \"items\": [], \n",
    "            ([\n",
    "                {\n",
    "                    \"product_id\": str,\n",
    "                    \"product_name\": str,\n",
    "                    \"quantity\": int,\n",
    "                    \"subtotal\": float,\n",
    "                    \"off_price\": int,\n",
    "                    \"isSelected\": bool,\n",
    "                    \"_id\": str\n",
    "                }\n",
    "            ])\n",
    "        \"createdAt\": str,\n",
    "        \"updatedAt\": str,\n",
    "        \"__v\": int}\n",
    "    '''\n",
    "    carts = CartApi.get_all()\n",
    "    carts_new = []\n",
    "    for cart in carts:\n",
    "        new_cart = {\n",
    "            \"user_id\": cart[\"user_id\"],  # convert to int\n",
    "            \"products\": [\n",
    "                {\n",
    "                    \"product_id\": item[\"product_id\"],\n",
    "                    \"quantity\": item[\"quantity\"]\n",
    "                } for item in cart.get(\"items\", [])\n",
    "            ]\n",
    "        }\n",
    "        carts_new.append(new_cart)\n",
    "    \n",
    "    return carts_new\n",
    "\n",
    "def conver_orders():\n",
    "    '''\n",
    "    Convert orders (New) into oders and order_items (Old)\n",
    "    \n",
    "    Old orders structure:\n",
    "    {\n",
    "      \"order_id\": 1,\n",
    "      \"user_id\": 1,\n",
    "      \"order_date\": \"02/07/2025\",\n",
    "      \"shipping_address\": \"Q5, TPHCM\",\n",
    "      \"total_amount\": 59.97,\n",
    "      \"off_price\": 0,\n",
    "      \"status\": \"Required\"\n",
    "    }\n",
    "    \n",
    "    Old order_items structure:\n",
    "    {\n",
    "      \"order_id\": 1,\n",
    "      \"products\": [\n",
    "        {\n",
    "          \"product_id\": \"B1\",\n",
    "          \"option\": {},\n",
    "          \"price\": 0,\n",
    "          \"quantity\": 1,\n",
    "          \"off_price\": 0\n",
    "        },\n",
    "        {\n",
    "          \"product_id\": \"B2\",\n",
    "          \"option\": {},\n",
    "          \"price\": 0,\n",
    "          \"quantity\": 2,\n",
    "          \"off_price\": 0\n",
    "        }\n",
    "      ]\n",
    "    }\n",
    "    \n",
    "    New orders structure:\n",
    "    {\n",
    "        \"_id\": \"68b56cee33d1edae4771ce12\",\n",
    "        \"user_id\": \"68b192b6f62f87ee1a7f23ae\",\n",
    "        \"user_name\": \"Alice\",\n",
    "        \"shipping_address\": \"227\",\n",
    "        \"subtotal\": 23.27,\n",
    "        \"off_price\": 0,\n",
    "        \"status\": \"Required\",\n",
    "        \"payment_method\": \"Cash on Delivery\",\n",
    "        \"message\": \"\",\n",
    "        \"items\": [\n",
    "            {\n",
    "                \"product_id\": \"68b33a89cddbce7889d9db70\",\n",
    "                \"product_name\": \"Butter Cream\",\n",
    "                \"quantity\": 1,\n",
    "                \"subtotal\": 13.27,\n",
    "                \"off_price\": 0,\n",
    "                \"_id\": \"68b56cdc33d1edae4771cdf4\"\n",
    "            }\n",
    "        ],\n",
    "        \"createdAt\": \"2025-09-01T09:52:46.454Z\",\n",
    "        \"updatedAt\": \"2025-09-01T09:52:46.454Z\",\n",
    "        \"__v\": 0\n",
    "        }\n",
    "    '''\n",
    "    orders = OrderApi.get_all()\n",
    "    orders_new = []\n",
    "    order_items_new = []\n",
    "    for order in orders:\n",
    "        new_order = {\n",
    "            \"order_id\": order[\"_id\"],\n",
    "            \"user_id\": order[\"user_id\"],\n",
    "            \"order_date\": order[\"createdAt\"][:10],  # extract date part\n",
    "            \"shipping_address\": order[\"shipping_address\"],\n",
    "            \"total_amount\": order[\"subtotal\"],\n",
    "            \"off_price\": order[\"off_price\"],\n",
    "            \"status\": order[\"status\"]\n",
    "        }\n",
    "        orders_new.append(new_order)\n",
    "        \n",
    "        new_order_items = {\n",
    "            \"order_id\": order[\"_id\"],\n",
    "            \"products\": [\n",
    "                {\n",
    "                    \"product_id\": item[\"product_id\"],\n",
    "                    \"option\": {},  # default to empty\n",
    "                    \"price\": item[\"subtotal\"] / item[\"quantity\"] if item[\"quantity\"] > 0 else 0,  # calculate unit price\n",
    "                    \"quantity\": item[\"quantity\"],\n",
    "                    \"off_price\": item[\"off_price\"]\n",
    "                } for item in order.get(\"items\", [])\n",
    "            ]\n",
    "        }\n",
    "        order_items_new.append(new_order_items)\n",
    "    return orders_new, order_items_new\n",
    "\n",
    "def convert_products():\n",
    "    '''\n",
    "    Convert New to Old \n",
    "    Old product structure:\n",
    "    {\n",
    "      \"product_id\": \"B1\",\n",
    "      \"type\": \"flower\",\n",
    "      \"name\": \"Red Rose Bouquet\",\n",
    "      \"price\": 19.99, # replace by dynamicPrice\n",
    "      \"stock\": 12,\n",
    "      \"available\": true,\n",
    "      \"description\": \"A luxurious bouquet of fresh red roses, hand-tied with lush green foliage. Perfect for weddings, anniversaries, or romantic gestures, these premium roses convey love, passion, and elegance. Each stem is carefully selected for vibrant color, long-lasting freshness, and soft velvety petals.\",\n",
    "      \"image_url\": [\n",
    "        \"/src/assets/demo_1.png\",\n",
    "        \"/src/assets/demo.png\",\n",
    "        \"/src/assets/demo_2.png\",\n",
    "        \"/src/assets/demo_3.png\"\n",
    "      ],\n",
    "      \"flower_details\": {\n",
    "        \"occasion\": [\n",
    "          \"Wedding\"\n",
    "        ],\n",
    "        \"color\": [\n",
    "          \"Pink Flowers\"\n",
    "        ],\n",
    "        \"flower_type\": \"Roses\",\n",
    "        \"options\": []\n",
    "      }\n",
    "    }\n",
    "    \n",
    "    New product structure:\n",
    "    {\n",
    "            \"_id\": \"68b33a89cddbce7889d9db70\",\n",
    "            \"name\": \"Butter Cream\",\n",
    "            \"price\": 10,\n",
    "            \"stock\": 10,\n",
    "            \"available\": true,\n",
    "            \"stems\": 8,\n",
    "            \"description\": \"A bright mixed Bouq featuring hot pink and yellow roses with pink carnations.\",\n",
    "            \"fill_stock_date\": \"2025-08-30T12:30:00.000Z\",\n",
    "            \"sales_count\": 8,\n",
    "            \"flower_type\": [\n",
    "                \"Roses\"\n",
    "            ],\n",
    "            \"colors\": [\n",
    "                \"Yellow Flowers\"\n",
    "            ],\n",
    "            \"occasions\": [\n",
    "                \"Birthday\",\n",
    "                \"Sympathy\"\n",
    "            ],\n",
    "            \"createdAt\": \"2025-08-30T17:53:13.155Z\",\n",
    "            \"updatedAt\": \"2025-09-01T16:12:07.717Z\",\n",
    "            \"__v\": 0,\n",
    "            \"image_url\": [\n",
    "                \"/src/assets/Cool%20Breeze.png\",\n",
    "                \"/src/assets/Exuberance.png\",\n",
    "                \"/src/assets/Flirtatious.png\",\n",
    "                \"exuberance\",\n",
    "                \"flirtatious\",\n",
    "                \"cool_breeze\"\n",
    "            ],\n",
    "            \"dynamicPrice\": 11.56,\n",
    "            \"condition\": \"New arrive\"\n",
    "        }\n",
    "    '''\n",
    "    products = get_all_products()\n",
    "    products_new = []\n",
    "    for product in products:\n",
    "        new_product = {\n",
    "            \"product_id\": product[\"_id\"],\n",
    "            \"type\": \"flower\",  # default to flower\n",
    "            \"name\": product[\"name\"],\n",
    "            \"price\": product.get(\"dynamicPrice\", product[\"price\"]),\n",
    "            \"stock\": product[\"stock\"],\n",
    "            \"available\": product[\"available\"],\n",
    "            \"description\": product[\"description\"],\n",
    "            \"image_url\": product[\"image_url\"],\n",
    "            \"flower_details\": {\n",
    "                \"occasion\": product.get(\"occasions\", []),\n",
    "                \"color\": product.get(\"colors\", []),\n",
    "                \"flower_type\": \", \".join(product.get(\"flower_type\", [])),\n",
    "                \"options\": []  # default to empty\n",
    "            }\n",
    "        }\n",
    "        products_new.append(new_product)\n",
    "    return products_new"
   ]
  },
  {
   "cell_type": "code",
   "execution_count": 117,
   "id": "de891311",
   "metadata": {},
   "outputs": [],
   "source": [
    "def fetch_all_data():\n",
    "    carts = convert_carts()\n",
    "    products = convert_products()\n",
    "    orders, order_items = conver_orders()\n",
    "    return {\n",
    "        \"carts\": carts,\n",
    "        \"products\": products,\n",
    "        \"orders\": orders,\n",
    "        \"order_items\": order_items\n",
    "    }"
   ]
  },
  {
   "cell_type": "code",
   "execution_count": 118,
   "id": "2383bc0b",
   "metadata": {},
   "outputs": [],
   "source": [
    "def extract_to_json():\n",
    "    data = fetch_all_data()\n",
    "    with open(\"data.json\", \"w\", encoding=\"utf-8\") as f:\n",
    "        json.dump(data, f, ensure_ascii=False, indent=4)"
   ]
  },
  {
   "cell_type": "code",
   "execution_count": 119,
   "id": "e3c79206",
   "metadata": {},
   "outputs": [],
   "source": [
    "extract_to_json()"
   ]
  },
  {
   "cell_type": "markdown",
   "id": "086efd98",
   "metadata": {},
   "source": [
    "# Utility Functions"
   ]
  },
  {
   "cell_type": "code",
   "execution_count": null,
   "id": "fa7d7b29",
   "metadata": {},
   "outputs": [],
   "source": [
    "def init_data(data_path = 'data.json'):\n",
    "    \n",
    "    # Open the file and load the JSON data\n",
    "    with open(data_path, 'r') as file:\n",
    "        data = json.load(file)\n",
    "        \n",
    "    print(data)    \n",
    "        \n",
    "    # Extract arrays from data\n",
    "    orders = data.get(\"orders\", [])\n",
    "    #orders = [order for order in orders if order.get('status','') == 'Done']\n",
    "    \n",
    "    orders_id_list = [order['order_id'] for order in orders]\n",
    "    \n",
    "    order_items = data.get(\"order_items\", [])\n",
    "    order_items = [order_item for order_item in order_items if order_item.get('order_id',-1) in orders_id_list]\n",
    "    \n",
    "    products = data.get(\"products\", [])\n",
    "    carts = data.get('carts',[])\n",
    "    \n",
    "    return orders, order_items, products, carts"
   ]
  },
  {
   "cell_type": "code",
   "execution_count": 121,
   "id": "793bd22b",
   "metadata": {},
   "outputs": [],
   "source": [
    "def extract_type(product_ids, products, type_filter = ['flower']):\n",
    "    \n",
    "    product_types = []\n",
    "    # Iterate through each product_id\n",
    "    for product_id in product_ids:\n",
    "        # Find the product\n",
    "        product = next((p for p in products if p[\"product_id\"] == product_id), None)\n",
    "        if product and product[\"type\"] in type_filter and \"flower_details\" in product:\n",
    "            product_types.append({\n",
    "                'type' : product.get('type',''),\n",
    "                \"flower_type\": product[\"flower_details\"].get(\"flower_type\", \"N/A\"),\n",
    "                \"color\": product[\"flower_details\"].get(\"color\", [])\n",
    "            })\n",
    "    \n",
    "    return product_types"
   ]
  },
  {
   "cell_type": "code",
   "execution_count": 122,
   "id": "50b4e6ed",
   "metadata": {},
   "outputs": [],
   "source": [
    "def user_data_counter(user_product_types):\n",
    "    type_count = {} # flower / vase\n",
    "    flower_count = {} \n",
    "    color_count = {}\n",
    "    \n",
    "    for product_type in user_product_types:\n",
    "        #print(product_type)\n",
    "        type_count[product_type['type']] = type_count.get(product_type['type'], 0) + 1\n",
    "        if product_type.get('flower_type', '') != '':\n",
    "            flower_count[product_type['flower_type']] = flower_count.get(product_type['flower_type'], 0) + 1\n",
    "            for i, color in enumerate(product_type['color']):\n",
    "                color_count[color] = color_count.get(product_type['color'][i], 0) + 1\n",
    "      \n",
    "    type_count = {key: value for key, value in sorted(type_count.items(), key = lambda item: item[1], reverse=True)}      \n",
    "    flower_count = {key: value for key, value in sorted(flower_count.items(), key = lambda item: item[1], reverse=True)}\n",
    "    color_count = {key: value for key, value in sorted(color_count.items(), key = lambda item: item[1], reverse=True)}\n",
    "    \n",
    "    return type_count, flower_count, color_count"
   ]
  },
  {
   "cell_type": "code",
   "execution_count": 159,
   "id": "c337d19f",
   "metadata": {},
   "outputs": [],
   "source": [
    "def _is_sellable(pid):\n",
    "    p = _PRODUCT_BY_ID.get(pid)\n",
    "    if not p or not p.get(\"available\", True):\n",
    "        return False\n",
    "    # if flowers with options, check any option has stock > 0; otherwise use top-level stock\n",
    "    return p.get(\"stock\", 0) > 0"
   ]
  },
  {
   "cell_type": "markdown",
   "id": "7bccf4b7",
   "metadata": {},
   "source": [
    "# Recommendation History"
   ]
  },
  {
   "cell_type": "code",
   "execution_count": 124,
   "id": "f9d98e12",
   "metadata": {},
   "outputs": [],
   "source": [
    "def get_orders_from_user(user_id, orders ,top_k = 1):\n",
    "    # Filter orders by user_id\n",
    "    user_orders = [order for order in orders if order[\"user_id\"] == user_id]\n",
    "    \n",
    "    # Sort orders by order_date in descending order\n",
    "    user_orders.sort(key=lambda x: datetime.strptime(x[\"order_date\"], \"%Y-%m-%d\"), reverse=True)\n",
    "    \n",
    "    # Return the top_k orders (or all if fewer than top_k)\n",
    "    return user_orders[:top_k]"
   ]
  },
  {
   "cell_type": "code",
   "execution_count": 125,
   "id": "c6f48352",
   "metadata": {},
   "outputs": [],
   "source": [
    "def get_products_ids_from_orders(orders, order_items):\n",
    "    product_ids = set()  # Use set for uniqueness\n",
    "    \n",
    "    # Iterate through each order\n",
    "    for order in orders:\n",
    "        # Find corresponding order_items\n",
    "        order_item = next((item for item in order_items if item[\"order_id\"] == order[\"order_id\"]), None)\n",
    "        if order_item:\n",
    "            # Extract product_ids from the order's products\n",
    "            for product in order_item[\"products\"]:\n",
    "                product_ids.add(product[\"product_id\"])\n",
    "    \n",
    "    return product_ids"
   ]
  },
  {
   "cell_type": "code",
   "execution_count": 126,
   "id": "abb917da",
   "metadata": {},
   "outputs": [],
   "source": [
    "def get_products_from_user_orders(user_id, orders, order_items, products, top_k, type_filter = ['flower']):\n",
    "    user_orders = get_orders_from_user(user_id, orders, top_k=top_k)\n",
    "    user_products_ids = get_products_ids_from_orders(user_orders, order_items)\n",
    "    user_product_types = extract_type(user_products_ids, products, type_filter)\n",
    "    \n",
    "    return user_products_ids, user_product_types"
   ]
  },
  {
   "cell_type": "code",
   "execution_count": 127,
   "id": "05acd2cc",
   "metadata": {},
   "outputs": [],
   "source": [
    "def rec_user_his(user_id, orders, order_items, products, top_k, recommended_list ,type_filter = ['flower']):\n",
    "    '''\n",
    "    Recommend the flower that:\n",
    "        - User not buy yet\n",
    "        - Come up with one most refered attribute\n",
    "        - Come up with the attribute that not occur get_preference\n",
    "    \n",
    "    '''\n",
    "    user_products_ids ,user_product_types = get_products_from_user_orders(user_id, orders, order_items ,products, top_k, type_filter)\n",
    "    \n",
    "    \n",
    "    _, flower_count, color_count = user_data_counter(user_product_types)\n",
    "    \n",
    "    print(f\"user_products_ids: {user_products_ids}\")\n",
    "    print(f\"user_product_types: {user_product_types}\")\n",
    "    print(f\"flower_count: {flower_count}\")\n",
    "    print(f\"color_count: {color_count}\")\n",
    "    \n",
    "    \n",
    "    #print(flower_count)\n",
    "    #print(color_count)\n",
    "    \n",
    "    # rank signals\n",
    "    ranked_flower = [ft for ft,_ in Counter(flower_count).most_common()]\n",
    "    ranked_color  = [c for c,_ in Counter(color_count).most_common()]\n",
    "    print(ranked_flower, ranked_color)\n",
    "\n",
    "    # try same flower_type with a color they haven't bought\n",
    "    for ft in ranked_flower:\n",
    "        for p in products:\n",
    "            if p.get('flower_details',{}).get('flower_type') == ft:\n",
    "                pid = p['product_id']\n",
    "                new_colors = [c for c in p.get('flower_details',{}).get('color',[]) if c not in color_count]\n",
    "                if new_colors and _is_sellable(pid) and pid not in user_products_ids and pid not in recommended_list:\n",
    "                    recommended_list.add(pid)\n",
    "                    return {'flag':'history','product_id':pid,'color':new_colors[0],'event':''}, recommended_list\n",
    "\n",
    "    # fallback: top color they like but new product\n",
    "    for c in ranked_color:\n",
    "        for p in products:\n",
    "            if c in p.get('flower_details',{}).get('color',[]):\n",
    "                pid = p['product_id']\n",
    "                if pid not in user_products_ids and _is_sellable(pid) and pid not in recommended_list:\n",
    "                    recommended_list.add(pid)\n",
    "                    return {'flag':'history','product_id':pid,'color':c,'event':''}, recommended_list\n",
    "\n",
    "    # final fallback: any new flower type\n",
    "    for p in products:\n",
    "        pid = p['product_id']\n",
    "        ft = p.get('flower_details',{}).get('flower_type','')\n",
    "        if ft and ft not in flower_count and _is_sellable(pid) and pid not in recommended_list:\n",
    "            recommended_list.add(pid)\n",
    "            return {'flag':'history','product_id':pid,'color':'','event':''}, recommended_list\n",
    "\n",
    "    return {'flag':'history','product_id':'','color':'','event':''}, recommended_list"
   ]
  },
  {
   "cell_type": "markdown",
   "id": "7b411297",
   "metadata": {},
   "source": [
    "# Recommendation Occasion"
   ]
  },
  {
   "cell_type": "code",
   "execution_count": 128,
   "id": "19036004",
   "metadata": {},
   "outputs": [],
   "source": [
    "events = {\n",
    "    \"New Year\": \"01/01\",\n",
    "    \"Valentine's Day\": \"14/02\",\n",
    "    \"International Women's Day\": \"08/03\",\n",
    "    \"Easter\": \"22/03 - 25/04\",\n",
    "    \"Mother's Day\": \"08/05 - 14/05\",\n",
    "    \"Father's Day\": \"15/06 - 21/06\",\n",
    "    \"Mid-Autumn Festival\": \"15/09 - 10/10\",\n",
    "    \"Halloween\": \"31/10\",\n",
    "    \"Thanksgiving\": \"22/11 - 28/11\",\n",
    "    \"Christmas\": \"25/12\",\n",
    "    \"Vietnamese Women's Day\": \"20/10\",\n",
    "    \"Vietnamese Teacher's Day\": \"20/11\",\n",
    "    \"Lunar New Year (Tết)\": \"20/01 - 20/02\",\n",
    "    \"Reunification Day\": \"30/04\",\n",
    "    \"Labor Day\": \"01/05\",\n",
    "    \"Vietnam National Day\": \"02/09\",\n",
    "    \"Chinese New Year\": \"21/01 - 20/02\",\n",
    "    \"Earth Day\": \"22/04\",\n",
    "    \"Summer Solstice\": \"20/06 - 22/06\",\n",
    "    \"Mid-Year Sales\": \"01/06 - 15/07\",\n",
    "    \"Black Friday\": \"23/11 - 29/11\",\n",
    "    \"Cyber Monday\": \"26/11 - 02/12\",\n",
    "    \"Singles' Day\": \"11/11\",\n",
    "    \"World Environment Day\": \"05/06\",\n",
    "    \"International Friendship Day\": \"30/07\",\n",
    "    \"Oktoberfest\": \"21/09 - 06/10\",\n",
    "    \"Winter Solstice\": \"20/12 - 23/12\",\n",
    "    \"Boxing Day\": \"26/12\",\n",
    "    \"Hung Kings Commemoration Day\": \"10/03\",\n",
    "    \"Tet Trung Thu (Children's Festival)\": \"15/08\",\n",
    "}"
   ]
  },
  {
   "cell_type": "code",
   "execution_count": 129,
   "id": "9334688d",
   "metadata": {},
   "outputs": [],
   "source": [
    "def get_nearest_upcoming_event(events=events, now=None):\n",
    "    \"\"\"\n",
    "    Find the next upcoming event (or the event currently in progress).\n",
    "    - Single-day events roll to next year if already passed this year.\n",
    "    - Ranged events return immediately if 'now' is within the range; otherwise\n",
    "      the next range start in the future (this year or next) is considered.\n",
    "    \"\"\"\n",
    "    if now is None:\n",
    "        now = datetime.now()\n",
    "\n",
    "    next_event = None\n",
    "    min_diff = timedelta(days=10**6)  # big number\n",
    "\n",
    "    for event_name, date_str in events.items():\n",
    "        if ' - ' in date_str:\n",
    "            # Handle ranges like \"DD/MM - DD/MM\"\n",
    "            start_str, end_str = [s.strip() for s in date_str.split(' - ')]\n",
    "\n",
    "            # Build start/end for the *current* cycle (might span year-end)\n",
    "            year = now.year\n",
    "            start = datetime.strptime(f\"{start_str}/{year}\", \"%d/%m/%Y\")\n",
    "            end = datetime.strptime(f\"{end_str}/{year}\", \"%d/%m/%Y\")\n",
    "\n",
    "            # If the range wraps to next year (e.g., 25/12 - 05/01)\n",
    "            if end < start:\n",
    "                end = end.replace(year=year + 1)\n",
    "\n",
    "            # Case 1: currently inside the range → it's the \"upcoming\" event\n",
    "            if start <= now <= end:\n",
    "                return event_name\n",
    "\n",
    "            # Case 2: upcoming later this year\n",
    "            if now < start:\n",
    "                candidate_start = start\n",
    "            else:\n",
    "                # already passed; consider next year's occurrence\n",
    "                next_year_start = start.replace(year=start.year + 1)\n",
    "                # Recompute next year's end respecting wrap logic\n",
    "                candidate_start = next_year_start\n",
    "\n",
    "            diff = candidate_start - now\n",
    "\n",
    "        else:\n",
    "            # Single-day event \"DD/MM\"\n",
    "            year = now.year\n",
    "            date_this_year = datetime.strptime(f\"{date_str}/{year}\", \"%d/%m/%Y\")\n",
    "            if date_this_year < now:\n",
    "                candidate = date_this_year.replace(year=year + 1)\n",
    "            else:\n",
    "                candidate = date_this_year\n",
    "            diff = candidate - now\n",
    "\n",
    "        if timedelta(0) <= diff < min_diff:\n",
    "            min_diff = diff\n",
    "            next_event = event_name\n",
    "\n",
    "    return next_event if next_event else \"No valid upcoming events found\""
   ]
  },
  {
   "cell_type": "code",
   "execution_count": 130,
   "id": "38cc799e",
   "metadata": {},
   "outputs": [],
   "source": [
    "def rec_user_occasion(products, recommended_list):\n",
    "    up_comming_event = get_nearest_upcoming_event()\n",
    "    products_event = [product for product in products if up_comming_event in product.get('flower_details',{}).get('occasion',[])]\n",
    "    #print(products_event)\n",
    "    \n",
    "    products_event = [product for product in products_event if product.get('product_id','') not in recommended_list and _is_sellable(product.get('product_id',''))]\n",
    "    #print(products_event)\n",
    "    \n",
    "    if products_event:\n",
    "        recommended_list.add(products_event[0].get('product_id',''))\n",
    "        return {\n",
    "            'flag' : 'occasion',\n",
    "            'product_id' : products_event[0].get('product_id',''),\n",
    "            'color' : '',\n",
    "            'event' : up_comming_event\n",
    "        }, recommended_list\n",
    "    else:\n",
    "        return {\n",
    "            'flag' : 'occasion',\n",
    "            'product_id' : '',\n",
    "            'color' : '',\n",
    "            'event' : ''\n",
    "        }, recommended_list"
   ]
  },
  {
   "cell_type": "markdown",
   "id": "b6068906",
   "metadata": {},
   "source": [
    "# Recommendation Cart (Cross-selling)"
   ]
  },
  {
   "cell_type": "code",
   "execution_count": 131,
   "id": "e9523789",
   "metadata": {},
   "outputs": [],
   "source": [
    "_pair_regex = re.compile(r\"^([A-Za-z]+)(\\d+)$\")"
   ]
  },
  {
   "cell_type": "code",
   "execution_count": 132,
   "id": "791cad23",
   "metadata": {},
   "outputs": [],
   "source": [
    "def get_products_from_user_carts(user_id, carts):\n",
    "    cart_item = next((c for c in carts if c[\"user_id\"] == user_id), None)\n",
    "    return {p[\"product_id\"] for p in cart_item[\"products\"]} if cart_item else set()"
   ]
  },
  {
   "cell_type": "code",
   "execution_count": 133,
   "id": "9e8e3a04",
   "metadata": {},
   "outputs": [],
   "source": [
    "def _natural_key(pid: ProductID) -> Tuple[str, int]:\n",
    "    m = _pair_regex.match(pid)\n",
    "    if not m:\n",
    "        return (pid, 0)\n",
    "    prefix, num = m.groups()\n",
    "    return (prefix, int(num))"
   ]
  },
  {
   "cell_type": "code",
   "execution_count": 134,
   "id": "7719474c",
   "metadata": {},
   "outputs": [],
   "source": [
    "def pair_normalize(product_id_1: ProductID, product_id_2: ProductID) -> str:\n",
    "    a, b = sorted((product_id_1, product_id_2), key=_natural_key)\n",
    "    return f\"{a} - {b}\""
   ]
  },
  {
   "cell_type": "code",
   "execution_count": 135,
   "id": "215058c2",
   "metadata": {},
   "outputs": [],
   "source": [
    "def create_pair(\n",
    "    product_list: Sequence[ProductID],\n",
    "    pair_count_place_holder: Optional[MutableMapping[str, int]] = None, # MutableMapping -> Dictionary object type like Dictionary, Counter, etc\n",
    ") -> Dict[str, int]:\n",
    "    pair_count = pair_count_place_holder or Counter()\n",
    "    unique_ids = tuple(set(product_list))\n",
    "    for a, b in combinations(unique_ids, 2):\n",
    "        key = pair_normalize(a, b)\n",
    "        pair_count[key] = pair_count.get(key, 0) + 1\n",
    "    return dict(pair_count)"
   ]
  },
  {
   "cell_type": "code",
   "execution_count": 136,
   "id": "00ee45ef",
   "metadata": {},
   "outputs": [],
   "source": [
    "def product_pair_count(order_items: Iterable[Mapping]) -> Dict[str, int]:\n",
    "    counts = Counter()\n",
    "    for order in order_items:\n",
    "        product_ids = {item[\"product_id\"] for item in order.get(\"products\", [])}\n",
    "        if not product_ids or len(product_ids) < 2:\n",
    "            continue\n",
    "        #print(product_ids)\n",
    "        counts = create_pair(list(product_ids), counts)\n",
    "    return dict(counts)"
   ]
  },
  {
   "cell_type": "code",
   "execution_count": 137,
   "id": "438591c8",
   "metadata": {},
   "outputs": [],
   "source": [
    "def rec_user_cross_selling(user_id, order_items, carts, recommended_list ):\n",
    "    pair_count_db = product_pair_count(order_items)\n",
    "    print('All order items pair:\\n', pair_count_db)\n",
    "\n",
    "    user_products_id: Set[ProductID] = set(get_products_from_user_carts(user_id, carts))\n",
    "    #print(user_products_id)\n",
    "\n",
    "    user_pairs = set(create_pair(list(user_products_id)).keys())\n",
    "    print('User products pair:\\n',user_pairs)\n",
    "    \n",
    "    # Maybe use for further filtering\n",
    "    # user_products_type = extract_type(user_products_id, products, [\"flower\", \"vase\"])\n",
    "    # user_products_type_count, _, _ = user_data_counter(user_products_type) \n",
    "\n",
    "    candidates = []\n",
    "    if user_products_id:\n",
    "        for pair_key, freq in pair_count_db.items():\n",
    "            p1, p2 = pair_key.replace(\" \", \"\").split(\"-\")\n",
    "            # consider pairs that involve the user's cart items\n",
    "            if (p1 in user_products_id) ^ (p2 in user_products_id) or (\n",
    "                p1 in user_products_id and p2 in user_products_id\n",
    "            ):\n",
    "                # skip if the user already has the whole pair present\n",
    "                if pair_key in user_pairs:\n",
    "                    continue\n",
    "                candidates.append((pair_key, freq))\n",
    "\n",
    "    #print(candidates)\n",
    "\n",
    "    if not candidates:\n",
    "        return {\n",
    "            'flag' : 'cross_selling',\n",
    "            'product_id': '',\n",
    "            'color' : '',\n",
    "            'event': ''\n",
    "        }, recommended_list\n",
    "    \n",
    "    candidates.sort(\n",
    "        key=lambda kv: (-kv[1], tuple(map(_natural_key, kv[0].split(\" - \"))))\n",
    "    )\n",
    "    \n",
    "    print('Candidates pair:\\n', candidates)\n",
    "\n",
    "    for pair_key, _freq in candidates:\n",
    "        p1, p2 = pair_key.split(\" - \")\n",
    "        if p1 in user_products_id and p2 not in user_products_id:\n",
    "            if p2 in recommended_list or not _is_sellable(p2):\n",
    "                continue\n",
    "            recommended_list.add(p2)\n",
    "            return {\n",
    "                'flag' : 'cross_selling',\n",
    "                \"product_id\": p2,\n",
    "                'color' : '',\n",
    "                'event': ''\n",
    "            }, recommended_list\n",
    "        if p2 in user_products_id and p1 not in user_products_id:\n",
    "            if p1 in recommended_list or not _is_sellable(p1):\n",
    "                continue\n",
    "            recommended_list.add(p1)\n",
    "            return {\n",
    "                'flag' : 'cross_selling',\n",
    "                \"product_id\": p1,\n",
    "                'color' : '',\n",
    "                'event': ''\n",
    "                }, recommended_list\n",
    "\n",
    "    return {\n",
    "        'flag' : 'cross_selling',\n",
    "        'product_id': '',\n",
    "        'color' : '',\n",
    "        'event': ''\n",
    "    }, recommended_list"
   ]
  },
  {
   "cell_type": "markdown",
   "id": "f8599490",
   "metadata": {},
   "source": [
    "# Recommendation Best Selling"
   ]
  },
  {
   "cell_type": "code",
   "execution_count": 138,
   "id": "43dd36cd",
   "metadata": {},
   "outputs": [],
   "source": [
    "def rec_user_best_selling(user_id, order_items, carts, recommended_list):\n",
    "    \"\"\"\n",
    "    Returns up to 3 best-selling product_ids.\n",
    "    - First pass: obey filters (not in cart, not in recommended_list, sellable).\n",
    "    - Backfill: ignore cart/recommended filters, but still require sellable.\n",
    "    - Always returns at least 3 items if possible.\n",
    "    \"\"\"\n",
    "    user_products_id = set(get_products_from_user_carts(user_id, carts))\n",
    "\n",
    "    # 1) Build revenue per product\n",
    "    revenue = defaultdict(float)\n",
    "    for order in order_items:\n",
    "        for product in order.get('products', []):\n",
    "            pid = product.get('product_id', '')\n",
    "            if not pid:\n",
    "                continue\n",
    "            opt = product.get('option') or {}\n",
    "            qty = product.get('quantity', 0) or 0\n",
    "\n",
    "            # prefer option price if present, else product price\n",
    "            price = float(opt.get('price', product.get('price', 0.0) or 0.0))\n",
    "            if qty:\n",
    "                revenue[pid] += price * qty\n",
    "\n",
    "    if not revenue:\n",
    "        return {'flag': 'best', 'product_ids': [], 'color': '', 'event': ''}, recommended_list\n",
    "    \n",
    "    # 2) Sort products by revenue desc\n",
    "    sorted_pids = [pid for pid, _rev in sorted(revenue.items(), key=lambda kv: kv[1], reverse=True)]\n",
    "\n",
    "    picks = []\n",
    "\n",
    "    # 3) Primary pass: apply filters\n",
    "    for pid in sorted_pids:\n",
    "        if len(picks) == 3:\n",
    "            break\n",
    "        if pid in user_products_id:\n",
    "            continue\n",
    "        if pid in recommended_list:\n",
    "            continue\n",
    "        if not _is_sellable(pid):\n",
    "            continue\n",
    "        picks.append(pid)\n",
    "\n",
    "    # 4) Backfill to ensure 3 (ignore cart/recommended filters, still require sellable)\n",
    "    if len(picks) < 3:\n",
    "        for pid in sorted_pids:\n",
    "            if len(picks) == 3:\n",
    "                break\n",
    "            if pid in picks:\n",
    "                continue\n",
    "            if not _is_sellable(pid):\n",
    "                continue\n",
    "            picks.append(pid)\n",
    "\n",
    "    # Update recommended_list with everything we return\n",
    "    recommended_list.update(picks)\n",
    "\n",
    "    return {'flag': 'best', 'product_ids': picks[:3], 'color': '', 'event': ''}, recommended_list"
   ]
  },
  {
   "cell_type": "markdown",
   "id": "0df421b1",
   "metadata": {},
   "source": [
    "# Recommendation wrapper"
   ]
  },
  {
   "cell_type": "code",
   "execution_count": 139,
   "id": "29c07dff",
   "metadata": {},
   "outputs": [],
   "source": [
    "def rec_user(user_id, top_k=3):\n",
    "    global recommended_list\n",
    "    recommended_list = set()  # reset per request/user\n",
    "\n",
    "    rec_his, recommended_list  = rec_user_his(user_id, orders, order_items, products, top_k,recommended_list)\n",
    "    rec_cross, recommended_list = rec_user_cross_selling(user_id, order_items, carts,recommended_list)\n",
    "    rec_occ, recommended_list   = rec_user_occasion(products, recommended_list)\n",
    "    rec_best, recommended_list  = rec_user_best_selling(user_id, order_items, carts,recommended_list)\n",
    "    return rec_his, rec_cross, rec_occ, rec_best"
   ]
  },
  {
   "cell_type": "code",
   "execution_count": 140,
   "id": "8a30d3b1",
   "metadata": {},
   "outputs": [],
   "source": [
    "def rec_user_converter(user_id, top_k = 3):\n",
    "    rec_his, rec_cross, rec_occ, rec_best = rec_user(user_id, top_k)\n",
    "    \n",
    "    #print(rec_best.get('product_ids', []))\n",
    "    \n",
    "    if rec_his.get('product_id', '') == '' and rec_cross.get('product_id','') == '':\n",
    "        rec_his['product_id'] = rec_best.get('product_ids',[])[1] if len(rec_best.get('product_ids',[])) > 1 else ''\n",
    "        rec_cross['product_id'] = rec_best.get('product_ids',[])[2] if len(rec_best.get('product_ids',[])) > 2 else ''\n",
    "        \n",
    "    if rec_his.get('product_id','') == '':\n",
    "        rec_his['product_id'] = rec_best.get('product_ids',[])[1] if len(rec_best.get('product_ids',[])) > 1 else ''\n",
    "        \n",
    "    if rec_cross.get('product_id','') == '':\n",
    "        rec_cross['product_id'] = rec_best.get('product_ids',[])[1] if len(rec_best.get('product_ids',[])) > 1 else ''\n",
    "        \n",
    "    rec_best['product_id'] = rec_best.get('product_ids',[])[0] if len(rec_best.get('product_ids',[])) > 0 else ''\n",
    "    \n",
    "    #print(rec_best['product_ids'])\n",
    "        \n",
    "    return rec_his, rec_cross, rec_occ, rec_best"
   ]
  },
  {
   "cell_type": "markdown",
   "id": "05c6ac4d",
   "metadata": {},
   "source": [
    "# Data Loader"
   ]
  },
  {
   "cell_type": "code",
   "execution_count": 148,
   "id": "f9f9f538",
   "metadata": {},
   "outputs": [],
   "source": [
    "def load_data(data_path='data.json'):\n",
    "    global orders, order_items, products, carts, _PRODUCT_BY_ID\n",
    "    orders, order_items, products, carts = init_data(data_path)\n",
    "    _PRODUCT_BY_ID = {p[\"product_id\"]: p for p in products}"
   ]
  },
  {
   "cell_type": "code",
   "execution_count": 149,
   "id": "3ef5825a",
   "metadata": {},
   "outputs": [
    {
     "name": "stdout",
     "output_type": "stream",
     "text": [
      "{'carts': [{'user_id': '68b192b6f62f87ee1a7f23ae', 'products': []}, {'user_id': '68b5396a1b4d7c87a185d904', 'products': [{'product_id': '68b33a89cddbce7889d9db70', 'quantity': 1}]}, {'user_id': '68b53d1f61edf7a32c5d1dc1', 'products': []}, {'user_id': '68b53d1f61edf7a32c5d1dc1', 'products': []}], 'products': [{'product_id': '68b33a89cddbce7889d9db70', 'type': 'flower', 'name': 'Butter Cream', 'price': 11.68, 'stock': 10, 'available': True, 'description': 'A bright mixed Bouq featuring hot pink and yellow roses with pink carnations.', 'image_url': ['exuberance', 'flirtatious', 'cool_breeze'], 'flower_details': {'occasion': ['Birthday', 'Sympathy', 'Just Because'], 'color': ['Yellow Flowers'], 'flower_type': 'Roses', 'options': []}}, {'product_id': '68b33aa8cddbce7889d9db72', 'type': 'flower', 'name': 'Sugar Crush', 'price': 8.91, 'stock': 15, 'available': True, 'description': 'Peach and cream rose bouquet with carnations, alstroemeria, and snapdragon', 'image_url': ['sugar_crush'], 'flower_details': {'occasion': ['Birthday', 'Sympathy'], 'color': ['Yellow Flowers'], 'flower_type': 'Roses', 'options': []}}, {'product_id': '68b3c0db05d592893aea4d9b', 'type': 'flower', 'name': 'Glowing', 'price': 5.42, 'stock': 2, 'available': True, 'description': 'This bouquet of flowers is composed of white hydrangeas and lilies.', 'image_url': ['waterlemon_candy', 'picnic'], 'flower_details': {'occasion': ['Just Because', 'Anniversary'], 'color': ['Yellow Flowers', 'White Flowers'], 'flower_type': 'Roses', 'options': []}}, {'product_id': '68b5a044b439192b2a241cd8', 'type': 'flower', 'name': 'Red Rose Bouquet', 'price': 6.25, 'stock': 7, 'available': True, 'description': 'Assorted stems of seasonal roses.', 'image_url': ['demo_1', 'demo_2', 'demo_3', 'butter_cream'], 'flower_details': {'occasion': ['Wedding'], 'color': ['Pink Flowers'], 'flower_type': 'Roses', 'options': []}}], 'orders': [{'order_id': '68b56cee33d1edae4771ce12', 'user_id': '68b192b6f62f87ee1a7f23ae', 'order_date': '2025-09-01', 'shipping_address': '227', 'total_amount': 23.27, 'off_price': 0, 'status': 'Required'}, {'order_id': '68b5a3e0b439192b2a241dca', 'user_id': '68b192b6f62f87ee1a7f23ae', 'order_date': '2025-09-01', 'shipping_address': '227', 'total_amount': 75.06, 'off_price': 0, 'status': 'Required'}, {'order_id': '68b5c5d7837300cff401deeb', 'user_id': '68b192b6f62f87ee1a7f23ae', 'order_date': '2025-09-01', 'shipping_address': '227', 'total_amount': 20.58, 'off_price': 0, 'status': 'Required'}, {'order_id': '68b67d6548986588e6d8fe62', 'user_id': '68b192b6f62f87ee1a7f23ae', 'order_date': '2025-09-02', 'shipping_address': 'TPHCM', 'total_amount': 28.75, 'off_price': 0, 'status': 'Confirmed'}], 'order_items': [{'order_id': '68b56cee33d1edae4771ce12', 'products': [{'product_id': '68b33a89cddbce7889d9db70', 'option': {}, 'price': 13.27, 'quantity': 1, 'off_price': 0}]}, {'order_id': '68b5a3e0b439192b2a241dca', 'products': [{'product_id': '68b33a89cddbce7889d9db70', 'option': {}, 'price': 12.51, 'quantity': 6, 'off_price': 0}]}, {'order_id': '68b5c5d7837300cff401deeb', 'products': [{'product_id': '68b33a89cddbce7889d9db70', 'option': {}, 'price': 11.96, 'quantity': 1, 'off_price': 0}, {'product_id': '68b3c0db05d592893aea4d9b', 'option': {}, 'price': 5.29, 'quantity': 2, 'off_price': 0}]}, {'order_id': '68b67d6548986588e6d8fe62', 'products': [{'product_id': '68b5a044b439192b2a241cd8', 'option': {}, 'price': 6.25, 'quantity': 3, 'off_price': 0}]}]}\n"
     ]
    }
   ],
   "source": [
    "load_data()"
   ]
  },
  {
   "cell_type": "markdown",
   "id": "7a5c1c83",
   "metadata": {},
   "source": [
    "# Function testing"
   ]
  },
  {
   "cell_type": "markdown",
   "id": "df50cbc4",
   "metadata": {},
   "source": [
    "## Recommendation History"
   ]
  },
  {
   "cell_type": "code",
   "execution_count": 150,
   "id": "dcc791d0",
   "metadata": {},
   "outputs": [],
   "source": [
    "user_id = '68b192b6f62f87ee1a7f23ae'"
   ]
  },
  {
   "cell_type": "code",
   "execution_count": 151,
   "id": "36fa50fa",
   "metadata": {},
   "outputs": [
    {
     "data": {
      "text/plain": [
       "[{'order_id': '68b67d6548986588e6d8fe62',\n",
       "  'user_id': '68b192b6f62f87ee1a7f23ae',\n",
       "  'order_date': '2025-09-02',\n",
       "  'shipping_address': 'TPHCM',\n",
       "  'total_amount': 28.75,\n",
       "  'off_price': 0,\n",
       "  'status': 'Confirmed'},\n",
       " {'order_id': '68b56cee33d1edae4771ce12',\n",
       "  'user_id': '68b192b6f62f87ee1a7f23ae',\n",
       "  'order_date': '2025-09-01',\n",
       "  'shipping_address': '227',\n",
       "  'total_amount': 23.27,\n",
       "  'off_price': 0,\n",
       "  'status': 'Required'},\n",
       " {'order_id': '68b5a3e0b439192b2a241dca',\n",
       "  'user_id': '68b192b6f62f87ee1a7f23ae',\n",
       "  'order_date': '2025-09-01',\n",
       "  'shipping_address': '227',\n",
       "  'total_amount': 75.06,\n",
       "  'off_price': 0,\n",
       "  'status': 'Required'}]"
      ]
     },
     "execution_count": 151,
     "metadata": {},
     "output_type": "execute_result"
    }
   ],
   "source": [
    "orders_user_1 = get_orders_from_user(user_id, orders, top_k=3)\n",
    "orders_user_1"
   ]
  },
  {
   "cell_type": "code",
   "execution_count": 153,
   "id": "852a76ff",
   "metadata": {},
   "outputs": [
    {
     "data": {
      "text/plain": [
       "({'68b33a89cddbce7889d9db70', '68b5a044b439192b2a241cd8'},\n",
       " [{'type': 'flower', 'flower_type': 'Roses', 'color': ['Pink Flowers']},\n",
       "  {'type': 'flower', 'flower_type': 'Roses', 'color': ['Yellow Flowers']}])"
      ]
     },
     "execution_count": 153,
     "metadata": {},
     "output_type": "execute_result"
    }
   ],
   "source": [
    "user_products_ids ,user_product_types = get_products_from_user_orders(user_id, orders, order_items, products, 3)\n",
    "user_products_ids ,user_product_types"
   ]
  },
  {
   "cell_type": "code",
   "execution_count": 154,
   "id": "433140ce",
   "metadata": {},
   "outputs": [
    {
     "data": {
      "text/plain": [
       "({'Roses': 2}, {'Pink Flowers': 1, 'Yellow Flowers': 1})"
      ]
     },
     "execution_count": 154,
     "metadata": {},
     "output_type": "execute_result"
    }
   ],
   "source": [
    "_, flower_count, color_count = user_data_counter(user_product_types)\n",
    "flower_count, color_count"
   ]
  },
  {
   "cell_type": "code",
   "execution_count": 161,
   "id": "24de6ec8",
   "metadata": {},
   "outputs": [
    {
     "name": "stdout",
     "output_type": "stream",
     "text": [
      "user_products_ids: {'68b5a044b439192b2a241cd8', '68b33a89cddbce7889d9db70'}\n",
      "user_product_types: [{'type': 'flower', 'flower_type': 'Roses', 'color': ['Pink Flowers']}, {'type': 'flower', 'flower_type': 'Roses', 'color': ['Yellow Flowers']}]\n",
      "flower_count: {'Roses': 2}\n",
      "color_count: {'Pink Flowers': 1, 'Yellow Flowers': 1}\n",
      "['Roses'] ['Pink Flowers', 'Yellow Flowers']\n"
     ]
    },
    {
     "data": {
      "text/plain": [
       "({'flag': 'history',\n",
       "  'product_id': '68b3c0db05d592893aea4d9b',\n",
       "  'color': 'White Flowers',\n",
       "  'event': ''},\n",
       " {'68b3c0db05d592893aea4d9b'})"
      ]
     },
     "execution_count": 161,
     "metadata": {},
     "output_type": "execute_result"
    }
   ],
   "source": [
    "rec_user_his(user_id, orders, order_items, products, 3, recommended_list=set())"
   ]
  },
  {
   "cell_type": "code",
   "execution_count": 113,
   "id": "10e1719a",
   "metadata": {},
   "outputs": [
    {
     "data": {
      "text/plain": [
       "{'B2'}"
      ]
     },
     "execution_count": 113,
     "metadata": {},
     "output_type": "execute_result"
    }
   ],
   "source": [
    "recommend_list = set()\n",
    "recommend_list.add('B2')\n",
    "recommend_list"
   ]
  },
  {
   "cell_type": "markdown",
   "id": "4648e37c",
   "metadata": {},
   "source": [
    "## Recommendation Occasion"
   ]
  },
  {
   "cell_type": "code",
   "execution_count": 114,
   "id": "f8adfc3d",
   "metadata": {},
   "outputs": [
    {
     "data": {
      "text/plain": [
       "'Vietnam National Day'"
      ]
     },
     "execution_count": 114,
     "metadata": {},
     "output_type": "execute_result"
    }
   ],
   "source": [
    "get_nearest_upcoming_event()"
   ]
  },
  {
   "cell_type": "code",
   "execution_count": 115,
   "id": "5e9895bc",
   "metadata": {},
   "outputs": [
    {
     "data": {
      "text/plain": [
       "({'flag': 'occasion',\n",
       "  'product_id': 'B12',\n",
       "  'color': '',\n",
       "  'event': 'Vietnam National Day'},\n",
       " {'B12', 'B2'})"
      ]
     },
     "execution_count": 115,
     "metadata": {},
     "output_type": "execute_result"
    }
   ],
   "source": [
    "rec_user_occasion(products, recommend_list)"
   ]
  },
  {
   "cell_type": "code",
   "execution_count": 116,
   "id": "c0042651",
   "metadata": {},
   "outputs": [
    {
     "data": {
      "text/plain": [
       "{'B12', 'B2'}"
      ]
     },
     "execution_count": 116,
     "metadata": {},
     "output_type": "execute_result"
    }
   ],
   "source": [
    "recommend_list.add('B12')\n",
    "recommend_list"
   ]
  },
  {
   "cell_type": "markdown",
   "id": "e71ffb26",
   "metadata": {},
   "source": [
    "## Recommnedation Cart (Cross-selling) "
   ]
  },
  {
   "cell_type": "code",
   "execution_count": 120,
   "id": "f592bf4c",
   "metadata": {},
   "outputs": [
    {
     "name": "stdout",
     "output_type": "stream",
     "text": [
      "All order items pair:\n",
      " {'B1 - V1': 1, 'B3 - V1': 1, 'B14 - V1': 1, 'B9 - V1': 1, 'B9 - B14': 1}\n",
      "User products pair:\n",
      " {'B1 - B3'}\n",
      "Candidates pair:\n",
      " [('B1 - V1', 1), ('B3 - V1', 1)]\n"
     ]
    },
    {
     "data": {
      "text/plain": [
       "({'flag': 'cross_selling', 'product_id': 'V1', 'color': '', 'event': ''},\n",
       " {'B12', 'B2', 'V1'})"
      ]
     },
     "execution_count": 120,
     "metadata": {},
     "output_type": "execute_result"
    }
   ],
   "source": [
    "rec_user_cross_selling(1, order_items, carts, recommend_list)"
   ]
  },
  {
   "cell_type": "code",
   "execution_count": 121,
   "id": "b409a85e",
   "metadata": {},
   "outputs": [
    {
     "data": {
      "text/plain": [
       "{'B12', 'B2', 'V1'}"
      ]
     },
     "execution_count": 121,
     "metadata": {},
     "output_type": "execute_result"
    }
   ],
   "source": [
    "recommend_list.add('V1')\n",
    "recommend_list"
   ]
  },
  {
   "cell_type": "markdown",
   "id": "d25efbea",
   "metadata": {},
   "source": [
    "## Recommendation Best Selling"
   ]
  },
  {
   "cell_type": "code",
   "execution_count": 162,
   "id": "d02900ac",
   "metadata": {},
   "outputs": [],
   "source": [
    "recommend_list = set()"
   ]
  },
  {
   "cell_type": "code",
   "execution_count": 163,
   "id": "d8bdbd90",
   "metadata": {},
   "outputs": [
    {
     "data": {
      "text/plain": [
       "({'flag': 'best',\n",
       "  'product_ids': ['68b33a89cddbce7889d9db70',\n",
       "   '68b5a044b439192b2a241cd8',\n",
       "   '68b3c0db05d592893aea4d9b'],\n",
       "  'color': '',\n",
       "  'event': ''},\n",
       " {'68b33a89cddbce7889d9db70',\n",
       "  '68b3c0db05d592893aea4d9b',\n",
       "  '68b5a044b439192b2a241cd8'})"
      ]
     },
     "execution_count": 163,
     "metadata": {},
     "output_type": "execute_result"
    }
   ],
   "source": [
    "rec_user_best_selling(user_id, order_items, carts, recommend_list)"
   ]
  },
  {
   "cell_type": "markdown",
   "id": "1d2d9663",
   "metadata": {},
   "source": [
    "## Recommendation wrapper"
   ]
  },
  {
   "cell_type": "code",
   "execution_count": 123,
   "id": "c218b473",
   "metadata": {},
   "outputs": [
    {
     "name": "stdout",
     "output_type": "stream",
     "text": [
      "All order items pair:\n",
      " {'B1 - V1': 1, 'B3 - V1': 1, 'B14 - V1': 1, 'B9 - V1': 1, 'B9 - B14': 1}\n",
      "User products pair:\n",
      " {'B1 - B3'}\n",
      "Candidates pair:\n",
      " [('B1 - V1', 1), ('B3 - V1', 1)]\n"
     ]
    },
    {
     "data": {
      "text/plain": [
       "({'flag': 'history',\n",
       "  'product_id': 'B2',\n",
       "  'color': 'White Flowers',\n",
       "  'event': ''},\n",
       " {'flag': 'cross_selling', 'product_id': 'V1', 'color': '', 'event': ''},\n",
       " {'flag': 'occasion',\n",
       "  'product_id': 'B12',\n",
       "  'color': '',\n",
       "  'event': 'Vietnam National Day'},\n",
       " {'flag': 'best',\n",
       "  'product_ids': ['B14', 'B9', 'B1'],\n",
       "  'color': '',\n",
       "  'event': ''})"
      ]
     },
     "execution_count": 123,
     "metadata": {},
     "output_type": "execute_result"
    }
   ],
   "source": [
    "rec_user(1, 3)"
   ]
  },
  {
   "cell_type": "code",
   "execution_count": 124,
   "id": "4a1530f9",
   "metadata": {},
   "outputs": [
    {
     "name": "stdout",
     "output_type": "stream",
     "text": [
      "All order items pair:\n",
      " {'B1 - V1': 1, 'B3 - V1': 1, 'B14 - V1': 1, 'B9 - V1': 1, 'B9 - B14': 1}\n",
      "User products pair:\n",
      " {'B1 - B3'}\n",
      "Candidates pair:\n",
      " [('B1 - V1', 1), ('B3 - V1', 1)]\n"
     ]
    },
    {
     "data": {
      "text/plain": [
       "({'flag': 'history',\n",
       "  'product_id': 'B2',\n",
       "  'color': 'White Flowers',\n",
       "  'event': ''},\n",
       " {'flag': 'cross_selling', 'product_id': 'V1', 'color': '', 'event': ''},\n",
       " {'flag': 'occasion',\n",
       "  'product_id': 'B12',\n",
       "  'color': '',\n",
       "  'event': 'Vietnam National Day'},\n",
       " {'flag': 'best',\n",
       "  'product_ids': ['B14', 'B9', 'B1'],\n",
       "  'color': '',\n",
       "  'event': '',\n",
       "  'product_id': 'B14'})"
      ]
     },
     "execution_count": 124,
     "metadata": {},
     "output_type": "execute_result"
    }
   ],
   "source": [
    "rec_user_converter(1, top_k=3)"
   ]
  },
  {
   "cell_type": "markdown",
   "id": "ef7500db",
   "metadata": {},
   "source": [
    "# Utility Testing"
   ]
  },
  {
   "cell_type": "code",
   "execution_count": 52,
   "id": "a606139c",
   "metadata": {},
   "outputs": [
    {
     "data": {
      "text/plain": [
       "[{'product_id': '68b33a89cddbce7889d9db70',\n",
       "  'type': 'flower',\n",
       "  'name': 'Butter Cream',\n",
       "  'price': 11.55,\n",
       "  'stock': 10,\n",
       "  'available': True,\n",
       "  'description': 'A bright mixed Bouq featuring hot pink and yellow roses with pink carnations.',\n",
       "  'image_url': ['/src/assets/Cool%20Breeze.png',\n",
       "   '/src/assets/Exuberance.png',\n",
       "   '/src/assets/Flirtatious.png',\n",
       "   'exuberance',\n",
       "   'flirtatious',\n",
       "   'cool_breeze'],\n",
       "  'flower_details': {'occasion': ['Birthday', 'Sympathy'],\n",
       "   'color': ['Yellow Flowers'],\n",
       "   'flower_type': 'Roses',\n",
       "   'options': []}},\n",
       " {'product_id': '68b33aa8cddbce7889d9db72',\n",
       "  'type': 'flower',\n",
       "  'name': 'Sugar Crush',\n",
       "  'price': 8.8,\n",
       "  'stock': 15,\n",
       "  'available': True,\n",
       "  'description': 'Peach and cream rose bouquet with carnations, alstroemeria, and snapdragon',\n",
       "  'image_url': ['sugar_crush'],\n",
       "  'flower_details': {'occasion': ['Birthday', 'Sympathy'],\n",
       "   'color': ['Yellow Flowers'],\n",
       "   'flower_type': 'Roses',\n",
       "   'options': []}},\n",
       " {'product_id': '68b3c0db05d592893aea4d9b',\n",
       "  'type': 'flower',\n",
       "  'name': 'Glowing',\n",
       "  'price': 5.35,\n",
       "  'stock': 0,\n",
       "  'available': True,\n",
       "  'description': 'This bouquet of flowers is composed of white hydrangeas and lilies.',\n",
       "  'image_url': ['waterlemon_candy', 'picnic'],\n",
       "  'flower_details': {'occasion': ['Just Because', 'Anniversary'],\n",
       "   'color': ['Yellow Flowers', 'White Flowers'],\n",
       "   'flower_type': 'Roses',\n",
       "   'options': []}},\n",
       " {'product_id': '68b5a044b439192b2a241cd8',\n",
       "  'type': 'flower',\n",
       "  'name': 'Red Rose Bouquet',\n",
       "  'price': 6.17,\n",
       "  'stock': 10,\n",
       "  'available': True,\n",
       "  'description': 'Assorted stems of seasonal roses.',\n",
       "  'image_url': ['demo_1', 'demo_2', 'demo_3', 'butter_cream'],\n",
       "  'flower_details': {'occasion': ['Wedding'],\n",
       "   'color': ['Pink Flowers'],\n",
       "   'flower_type': 'Roses',\n",
       "   'options': []}}]"
      ]
     },
     "execution_count": 52,
     "metadata": {},
     "output_type": "execute_result"
    }
   ],
   "source": [
    "products"
   ]
  },
  {
   "cell_type": "code",
   "execution_count": 53,
   "id": "d68a6067",
   "metadata": {},
   "outputs": [
    {
     "data": {
      "text/plain": [
       "[{'type': 'flower', 'flower_type': 'Roses', 'color': ['Yellow Flowers']}]"
      ]
     },
     "execution_count": 53,
     "metadata": {},
     "output_type": "execute_result"
    }
   ],
   "source": [
    "extract_type(['68b33a89cddbce7889d9db70'], products)"
   ]
  },
  {
   "cell_type": "code",
   "execution_count": 54,
   "id": "9f48b26f",
   "metadata": {},
   "outputs": [
    {
     "data": {
      "text/plain": [
       "[]"
      ]
     },
     "execution_count": 54,
     "metadata": {},
     "output_type": "execute_result"
    }
   ],
   "source": [
    "get_orders_from_user('68b192b6f62f87ee1a7f23ae', orders)"
   ]
  },
  {
   "cell_type": "code",
   "execution_count": 55,
   "id": "0bf6e3a1",
   "metadata": {},
   "outputs": [],
   "source": [
    "user_id = '68b192b6f62f87ee1a7f23ae'"
   ]
  },
  {
   "cell_type": "code",
   "execution_count": 56,
   "id": "52b0abf2",
   "metadata": {},
   "outputs": [
    {
     "data": {
      "text/plain": [
       "[]"
      ]
     },
     "execution_count": 56,
     "metadata": {},
     "output_type": "execute_result"
    }
   ],
   "source": [
    "[order for order in orders if order[\"user_id\"] == user_id]"
   ]
  },
  {
   "cell_type": "code",
   "execution_count": 57,
   "id": "63b3aa85",
   "metadata": {},
   "outputs": [
    {
     "data": {
      "text/plain": [
       "[]"
      ]
     },
     "execution_count": 57,
     "metadata": {},
     "output_type": "execute_result"
    }
   ],
   "source": [
    "orders"
   ]
  },
  {
   "cell_type": "code",
   "execution_count": null,
   "id": "35540b71",
   "metadata": {},
   "outputs": [],
   "source": []
  }
 ],
 "metadata": {
  "kernelspec": {
   "display_name": "chatbot_env",
   "language": "python",
   "name": "python3"
  },
  "language_info": {
   "codemirror_mode": {
    "name": "ipython",
    "version": 3
   },
   "file_extension": ".py",
   "mimetype": "text/x-python",
   "name": "python",
   "nbconvert_exporter": "python",
   "pygments_lexer": "ipython3",
   "version": "3.8.20"
  }
 },
 "nbformat": 4,
 "nbformat_minor": 5
}
